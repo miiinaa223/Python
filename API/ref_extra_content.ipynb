{
 "cells": [
  {
   "cell_type": "code",
   "execution_count": 5,
   "metadata": {},
   "outputs": [],
   "source": [
    "# Dependencies\n",
    "import openweathermapy.core as owm\n",
    "\n",
    "#import api_key\n",
    "from api_keys import api_key"
   ]
  },
  {
   "cell_type": "code",
   "execution_count": 6,
   "metadata": {},
   "outputs": [],
   "source": [
    "# Create settings parameters\n",
    "settings = {\"units\": \"imperial\", \"APPID\": api_key}"
   ]
  },
  {
   "cell_type": "code",
   "execution_count": 16,
   "metadata": {},
   "outputs": [
    {
     "name": "stdout",
     "output_type": "stream",
     "text": [
      "2019-03-24 00:00:00 | 75.11 F\n",
      "2019-03-24 03:00:00 | 62.08 F\n",
      "2019-03-24 06:00:00 | 54.34 F\n",
      "2019-03-24 09:00:00 | 50.81 F\n",
      "2019-03-24 12:00:00 | 47.87 F\n",
      "2019-03-24 15:00:00 | 52.96 F\n",
      "2019-03-24 18:00:00 | 68.01 F\n",
      "2019-03-24 21:00:00 | 72.97 F\n",
      "2019-03-25 00:00:00 | 73 F\n",
      "2019-03-25 03:00:00 | 59.74 F\n",
      "2019-03-25 06:00:00 | 52.44 F\n",
      "2019-03-25 09:00:00 | 48.93 F\n",
      "2019-03-25 12:00:00 | 46.88 F\n",
      "2019-03-25 15:00:00 | 51.67 F\n",
      "2019-03-25 18:00:00 | 69.02 F\n",
      "2019-03-25 21:00:00 | 76.12 F\n",
      "2019-03-26 00:00:00 | 75.52 F\n",
      "2019-03-26 03:00:00 | 60.63 F\n",
      "2019-03-26 06:00:00 | 51.58 F\n",
      "2019-03-26 09:00:00 | 48.21 F\n",
      "2019-03-26 12:00:00 | 46.3 F\n",
      "2019-03-26 15:00:00 | 52.4 F\n",
      "2019-03-26 18:00:00 | 70.33 F\n",
      "2019-03-26 21:00:00 | 75.79 F\n",
      "2019-03-27 00:00:00 | 74.39 F\n",
      "2019-03-27 03:00:00 | 63.2 F\n",
      "2019-03-27 06:00:00 | 58.16 F\n",
      "2019-03-27 09:00:00 | 54.31 F\n",
      "2019-03-27 12:00:00 | 51.36 F\n",
      "2019-03-27 15:00:00 | 56.42 F\n",
      "2019-03-27 18:00:00 | 70.23 F\n",
      "2019-03-27 21:00:00 | 71.42 F\n",
      "2019-03-28 00:00:00 | 71.7 F\n",
      "2019-03-28 03:00:00 | 60.97 F\n",
      "2019-03-28 06:00:00 | 55.95 F\n",
      "2019-03-28 09:00:00 | 52.39 F\n",
      "2019-03-28 12:00:00 | 47.23 F\n",
      "2019-03-28 15:00:00 | 49.09 F\n",
      "2019-03-28 18:00:00 | 59.85 F\n",
      "2019-03-28 21:00:00 | 63.58 F\n"
     ]
    }
   ],
   "source": [
    "# make the API call using owm's get_fourcast_hourly method\n",
    "forecast = owm.get_forecast_hourly(\"Phoenix, US\", **settings)\n",
    "\n",
    "# extract the date in text format and the temperature from each record\n",
    "# and save them in a list\n",
    "summary = [\"dt_txt\", \"main.temp\"]\n",
    "data = [hourly_forecast(*summary) for hourly_forecast in forecast]\n",
    "\n",
    "# format the printing of each record\n",
    "for hourly_forecast in data:\n",
    "    print(f\"{hourly_forecast[0]} | {hourly_forecast[1]} F\")"
   ]
  }
 ],
 "metadata": {
  "kernelspec": {
   "display_name": "Python 3",
   "language": "python",
   "name": "python3"
  },
  "language_info": {
   "codemirror_mode": {
    "name": "ipython",
    "version": 3
   },
   "file_extension": ".py",
   "mimetype": "text/x-python",
   "name": "python",
   "nbconvert_exporter": "python",
   "pygments_lexer": "ipython3",
   "version": "3.6.6"
  }
 },
 "nbformat": 4,
 "nbformat_minor": 2
}
